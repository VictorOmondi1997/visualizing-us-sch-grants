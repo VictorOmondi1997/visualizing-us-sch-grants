{
  "nbformat": 4,
  "nbformat_minor": 0,
  "metadata": {
    "colab": {
      "name": "visualizing_us_sch_grants.ipynb",
      "provenance": [],
      "authorship_tag": "ABX9TyPiwhobTa2DNZXHXJcjg/rz",
      "include_colab_link": true
    },
    "kernelspec": {
      "name": "python3",
      "display_name": "Python 3"
    }
  },
  "cells": [
    {
      "cell_type": "markdown",
      "metadata": {
        "id": "view-in-github",
        "colab_type": "text"
      },
      "source": [
        "<a href=\"https://colab.research.google.com/github/VictorOmondi1997/visualizing-us-sch-grants/blob/master/visualizing_us_sch_grants.ipynb\" target=\"_parent\"><img src=\"https://colab.research.google.com/assets/colab-badge.svg\" alt=\"Open In Colab\"/></a>"
      ]
    },
    {
      "cell_type": "markdown",
      "metadata": {
        "id": "wOg5Jjzrrloa",
        "colab_type": "text"
      },
      "source": [
        "# Visualizing the 2010 US School Improvement Grants\n",
        "\n",
        "Exploring data from US School Improvement Grants in 2010. This program gave nearly $4B to schools to help them renovate or improve their programs.\n"
      ]
    },
    {
      "cell_type": "code",
      "metadata": {
        "id": "KiT2Ede6rc_a",
        "colab_type": "code",
        "colab": {
          "base_uri": "https://localhost:8080/",
          "height": 73
        },
        "outputId": "59caf7c5-3156-40ef-f9ca-02079d9206e7"
      },
      "source": [
        "%matplotlib inline\n",
        "import pandas as pd\n",
        "import matplotlib.pyplot as plt\n",
        "import seaborn as sns\n",
        "import numpy as np\n",
        "\n",
        "plt.style.use('ggplot')"
      ],
      "execution_count": 1,
      "outputs": [
        {
          "output_type": "stream",
          "text": [
            "/usr/local/lib/python3.6/dist-packages/statsmodels/tools/_testing.py:19: FutureWarning: pandas.util.testing is deprecated. Use the functions in the public API at pandas.testing instead.\n",
            "  import pandas.util.testing as tm\n"
          ],
          "name": "stderr"
        }
      ]
    },
    {
      "cell_type": "code",
      "metadata": {
        "id": "T6If5ZrRr-f9",
        "colab_type": "code",
        "colab": {
          "base_uri": "https://localhost:8080/",
          "height": 204
        },
        "outputId": "e6c255c3-4854-4ae2-c5ac-df3a7385052c"
      },
      "source": [
        "grants = pd.read_csv('https://assets.datacamp.com/production/repositories/2210/datasets/205443d734f177d36dad2f0bdf821a57b2c4cc13/schoolimprovement2010grants.csv')\n",
        "grants.head()"
      ],
      "execution_count": 2,
      "outputs": [
        {
          "output_type": "execute_result",
          "data": {
            "text/html": [
              "<div>\n",
              "<style scoped>\n",
              "    .dataframe tbody tr th:only-of-type {\n",
              "        vertical-align: middle;\n",
              "    }\n",
              "\n",
              "    .dataframe tbody tr th {\n",
              "        vertical-align: top;\n",
              "    }\n",
              "\n",
              "    .dataframe thead th {\n",
              "        text-align: right;\n",
              "    }\n",
              "</style>\n",
              "<table border=\"1\" class=\"dataframe\">\n",
              "  <thead>\n",
              "    <tr style=\"text-align: right;\">\n",
              "      <th></th>\n",
              "      <th>Unnamed: 0</th>\n",
              "      <th>School Name</th>\n",
              "      <th>City</th>\n",
              "      <th>State</th>\n",
              "      <th>District Name</th>\n",
              "      <th>Model Selected</th>\n",
              "      <th>Award_Amount</th>\n",
              "      <th>Region</th>\n",
              "    </tr>\n",
              "  </thead>\n",
              "  <tbody>\n",
              "    <tr>\n",
              "      <th>0</th>\n",
              "      <td>0</td>\n",
              "      <td>HOGARTH KINGEEKUK MEMORIAL SCHOOL</td>\n",
              "      <td>SAVOONGA</td>\n",
              "      <td>AK</td>\n",
              "      <td>BERING STRAIT SCHOOL DISTRICT</td>\n",
              "      <td>Transformation</td>\n",
              "      <td>471014</td>\n",
              "      <td>West</td>\n",
              "    </tr>\n",
              "    <tr>\n",
              "      <th>1</th>\n",
              "      <td>1</td>\n",
              "      <td>AKIACHAK SCHOOL</td>\n",
              "      <td>AKIACHAK</td>\n",
              "      <td>AK</td>\n",
              "      <td>YUPIIT SCHOOL DISTRICT</td>\n",
              "      <td>Transformation</td>\n",
              "      <td>520579</td>\n",
              "      <td>West</td>\n",
              "    </tr>\n",
              "    <tr>\n",
              "      <th>2</th>\n",
              "      <td>2</td>\n",
              "      <td>GAMBELL SCHOOL</td>\n",
              "      <td>GAMBELL</td>\n",
              "      <td>AK</td>\n",
              "      <td>BERING STRAIT SCHOOL DISTRICT</td>\n",
              "      <td>Transformation</td>\n",
              "      <td>449592</td>\n",
              "      <td>West</td>\n",
              "    </tr>\n",
              "    <tr>\n",
              "      <th>3</th>\n",
              "      <td>3</td>\n",
              "      <td>BURCHELL HIGH SCHOOL</td>\n",
              "      <td>WASILLA</td>\n",
              "      <td>AK</td>\n",
              "      <td>MATANUSKA-SUSITNA BOROUGH SCHOOL DISTRICT</td>\n",
              "      <td>Transformation</td>\n",
              "      <td>641184</td>\n",
              "      <td>West</td>\n",
              "    </tr>\n",
              "    <tr>\n",
              "      <th>4</th>\n",
              "      <td>4</td>\n",
              "      <td>AKIAK SCHOOL</td>\n",
              "      <td>AKIAK</td>\n",
              "      <td>AK</td>\n",
              "      <td>YUPIIT SCHOOL DISTRICT</td>\n",
              "      <td>Transformation</td>\n",
              "      <td>399686</td>\n",
              "      <td>West</td>\n",
              "    </tr>\n",
              "  </tbody>\n",
              "</table>\n",
              "</div>"
            ],
            "text/plain": [
              "   Unnamed: 0                        School Name  ... Award_Amount Region\n",
              "0           0  HOGARTH KINGEEKUK MEMORIAL SCHOOL  ...       471014   West\n",
              "1           1                    AKIACHAK SCHOOL  ...       520579   West\n",
              "2           2                     GAMBELL SCHOOL  ...       449592   West\n",
              "3           3               BURCHELL HIGH SCHOOL  ...       641184   West\n",
              "4           4                       AKIAK SCHOOL  ...       399686   West\n",
              "\n",
              "[5 rows x 8 columns]"
            ]
          },
          "metadata": {
            "tags": []
          },
          "execution_count": 2
        }
      ]
    },
    {
      "cell_type": "markdown",
      "metadata": {
        "id": "ZNoMmBFKshf0",
        "colab_type": "text"
      },
      "source": [
        "# Award Amount distribution"
      ]
    },
    {
      "cell_type": "code",
      "metadata": {
        "id": "RD30kVJ9sHiJ",
        "colab_type": "code",
        "colab": {
          "base_uri": "https://localhost:8080/",
          "height": 293
        },
        "outputId": "ce3ff41e-2850-483f-bf6c-24e852e4c153"
      },
      "source": [
        "sns.distplot(grants.Award_Amount)\n",
        "plt.show()"
      ],
      "execution_count": 4,
      "outputs": [
        {
          "output_type": "display_data",
          "data": {
            "image/png": "[encoded data removed]",
            "text/plain": [
              "<Figure size 432x288 with 1 Axes>"
            ]
          },
          "metadata": {
            "tags": [],
            "needs_background": "light"
          }
        }
      ]
    },
    {
      "cell_type": "code",
      "metadata": {
        "id": "NISiJc5Wsw9l",
        "colab_type": "code",
        "colab": {
          "base_uri": "https://localhost:8080/",
          "height": 282
        },
        "outputId": "d224aa4a-5cf6-4794-a23e-015db41c2188"
      },
      "source": [
        "sns.distplot(grants.Award_Amount, kde=False, bins=20)\n",
        "plt.show()"
      ],
      "execution_count": 5,
      "outputs": [
        {
          "output_type": "display_data",
          "data": {
            "image/png": "[encoded data removed]",
            "text/plain": [
              "<Figure size 432x288 with 1 Axes>"
            ]
          },
          "metadata": {
            "tags": [],
            "needs_background": "light"
          }
        }
      ]
    },
    {
      "cell_type": "code",
      "metadata": {
        "id": "v_Y_b7OIu8AC",
        "colab_type": "code",
        "colab": {
          "base_uri": "https://localhost:8080/",
          "height": 293
        },
        "outputId": "554c5eea-e68d-48cc-c0fd-c1da71aee587"
      },
      "source": [
        "sns.distplot(grants.Award_Amount, hist=False,rug=True, kde_kws={'shade':True})\n",
        "plt.show()"
      ],
      "execution_count": 7,
      "outputs": [
        {
          "output_type": "display_data",
          "data": {
            "image/png": "[encoded data removed]",
            "text/plain": [
              "<Figure size 432x288 with 1 Axes>"
            ]
          },
          "metadata": {
            "tags": [],
            "needs_background": "light"
          }
        }
      ]
    },
    {
      "cell_type": "markdown",
      "metadata": {
        "id": "B6fb3vDRvs1E",
        "colab_type": "text"
      },
      "source": [
        "## Observation\n",
        "\n",
        "375 of the 757 awards are <= $400k. This insight could be useful for further analysis."
      ]
    },
    {
      "cell_type": "code",
      "metadata": {
        "id": "E7SIvVz0vYQW",
        "colab_type": "code",
        "colab": {}
      },
      "source": [
        ""
      ],
      "execution_count": 0,
      "outputs": []
    }
  ]
}